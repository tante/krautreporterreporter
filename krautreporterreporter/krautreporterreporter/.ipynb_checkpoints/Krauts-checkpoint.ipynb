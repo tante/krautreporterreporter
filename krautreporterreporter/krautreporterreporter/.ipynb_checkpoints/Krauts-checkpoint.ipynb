{
 "metadata": {
  "name": "",
  "signature": "sha256:f91be5840be7681ed44af776ddf2dcce3cb4615be86aa4c1469c5268f504c139"
 },
 "nbformat": 3,
 "nbformat_minor": 0,
 "worksheets": []
}